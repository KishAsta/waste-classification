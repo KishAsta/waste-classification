{
 "cells": [
  {
   "cell_type": "code",
   "execution_count": 1,
   "metadata": {},
   "outputs": [
    {
     "name": "stdout",
     "output_type": "stream",
     "text": [
      "Loaded and preprocessed 1072 images.\n"
     ]
    }
   ],
   "source": [
    "import os\n",
    "import cv2\n",
    "import numpy as np\n",
    "from tensorflow.keras.preprocessing.image import img_to_array\n",
    "\n",
    "def get_image_paths_from_subfolders(root_dir):\n",
    "    \"\"\"Recursively get image paths from subfolders in the given directory.\"\"\"\n",
    "    image_paths = []\n",
    "    \n",
    "    for subdir, _, files in os.walk(root_dir):\n",
    "        for file in files:\n",
    "            # Only consider image files (you can add more image extensions if needed)\n",
    "            if file.lower().endswith(('.png', '.jpg', '.jpeg', '.bmp', '.gif')):\n",
    "                img_path = os.path.join(subdir, file)\n",
    "                image_paths.append(img_path)\n",
    "    \n",
    "    return image_paths\n",
    "\n",
    "def preprocess_image(img, target_size=(128, 128), saturation_factor=1.3):\n",
    "    \"\"\"Resize the image, enhance its saturation, and normalize it.\"\"\"\n",
    "    \n",
    "    # Resize the image to the desired size\n",
    "    img_resized = cv2.resize(img, target_size)\n",
    "\n",
    "    # Enhance color saturation (Convert BGR to HSV)\n",
    "    img_hsv = cv2.cvtColor(img_resized, cv2.COLOR_BGR2HSV)\n",
    "    img_hsv[:, :, 1] = np.clip(img_hsv[:, :, 1] * saturation_factor, 0, 255)  # Enhance saturation\n",
    "    img_enhanced = cv2.cvtColor(img_hsv, cv2.COLOR_HSV2BGR)\n",
    "\n",
    "    # Normalize pixel values to [0, 1]\n",
    "    img_normalized = img_enhanced / 255.0\n",
    "    \n",
    "    return img_normalized\n",
    "\n",
    "def load_and_preprocess_images(image_paths, target_size=(128, 128)):\n",
    "    \"\"\"Load and preprocess all images from the given paths.\"\"\"\n",
    "    images = []\n",
    "    for img_path in image_paths:\n",
    "        # Read the image\n",
    "        img = cv2.imread(img_path)\n",
    "        if img is not None:\n",
    "            # Preprocess the image (resize, enhance saturation, normalize)\n",
    "            img_processed = preprocess_image(img, target_size)\n",
    "            images.append(img_processed)\n",
    "    return np.array(images)\n",
    "\n",
    "# Path to your processed images directory\n",
    "processed_images_dir = r\"C:\\Users\\Kishore\\OneDrive\\Desktop\\DIP\\Processed Dataset\"\n",
    "\n",
    "# Get image paths from subfolders\n",
    "image_paths = get_image_paths_from_subfolders(processed_images_dir)\n",
    "\n",
    "# Load and preprocess the images\n",
    "images = load_and_preprocess_images(image_paths)\n",
    "\n",
    "# If you want to save the images as a numpy array for training, you can:\n",
    "# np.save(\"processed_images.npy\", images)\n",
    "\n",
    "print(f\"Loaded and preprocessed {len(images)} images.\")\n"
   ]
  }
 ],
 "metadata": {
  "kernelspec": {
   "display_name": "Python 3",
   "language": "python",
   "name": "python3"
  },
  "language_info": {
   "codemirror_mode": {
    "name": "ipython",
    "version": 3
   },
   "file_extension": ".py",
   "mimetype": "text/x-python",
   "name": "python",
   "nbconvert_exporter": "python",
   "pygments_lexer": "ipython3",
   "version": "3.10.6"
  }
 },
 "nbformat": 4,
 "nbformat_minor": 2
}
